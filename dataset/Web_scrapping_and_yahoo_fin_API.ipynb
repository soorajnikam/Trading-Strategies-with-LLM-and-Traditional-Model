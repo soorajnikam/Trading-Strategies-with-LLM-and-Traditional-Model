{
  "nbformat": 4,
  "nbformat_minor": 0,
  "metadata": {
    "colab": {
      "provenance": []
    },
    "kernelspec": {
      "name": "python3",
      "display_name": "Python 3"
    },
    "language_info": {
      "name": "python"
    }
  },
  "cells": [
    {
      "cell_type": "markdown",
      "source": [
        "1. Webscrapping Data from FXstreet website to get financial News data"
      ],
      "metadata": {
        "id": "esKZC7GrnJe_"
      }
    },
    {
      "cell_type": "markdown",
      "source": [
        "Import Required Libraries"
      ],
      "metadata": {
        "id": "gNszeRAclGzF"
      }
    },
    {
      "cell_type": "code",
      "source": [
        "import requests\n",
        "from bs4 import BeautifulSoup\n",
        "import pandas as pd\n",
        "import time"
      ],
      "metadata": {
        "id": "0QqfxCNalGOZ"
      },
      "execution_count": 5,
      "outputs": []
    },
    {
      "cell_type": "markdown",
      "source": [
        "Defining Headers for Web Request"
      ],
      "metadata": {
        "id": "FGcJ75Q-lMxv"
      }
    },
    {
      "cell_type": "code",
      "source": [
        "headers = {\n",
        "    \"User-Agent\": \"Mozilla/5.0 (Windows NT 10.0; Win64; x64) AppleWebKit/537.36 (KHTML, like Gecko) Chrome/113.0 Safari/537.36\"\n",
        "}"
      ],
      "metadata": {
        "id": "1aZtaGZ8lMau"
      },
      "execution_count": 6,
      "outputs": []
    },
    {
      "cell_type": "markdown",
      "source": [
        " URL and Storage Initialization"
      ],
      "metadata": {
        "id": "mIsVofCnlULh"
      }
    },
    {
      "cell_type": "code",
      "source": [
        "base_url = \"https://www.investing.com/currencies/eur-usd-news/\"\n",
        "all_data = []"
      ],
      "metadata": {
        "id": "eEVj7CHKlTop"
      },
      "execution_count": 7,
      "outputs": []
    },
    {
      "cell_type": "markdown",
      "source": [
        "Loop Through Pages (1 to 1000)\n"
      ],
      "metadata": {
        "id": "Au7m44eTlgcI"
      }
    },
    {
      "cell_type": "code",
      "execution_count": 8,
      "metadata": {
        "id": "re_vF9MNktfh",
        "colab": {
          "base_uri": "https://localhost:8080/"
        },
        "outputId": "47c7c41b-4a45-40b4-d3a6-f157e8a1cebc"
      },
      "outputs": [
        {
          "output_type": "stream",
          "name": "stdout",
          "text": [
            "Scraping page 1: https://www.investing.com/currencies/eur-usd-news/1\n",
            "Scraping page 2: https://www.investing.com/currencies/eur-usd-news/2\n",
            "Scraping page 3: https://www.investing.com/currencies/eur-usd-news/3\n",
            "Scraping page 4: https://www.investing.com/currencies/eur-usd-news/4\n",
            "Scraping page 5: https://www.investing.com/currencies/eur-usd-news/5\n",
            "Scraping page 6: https://www.investing.com/currencies/eur-usd-news/6\n",
            "Scraping page 7: https://www.investing.com/currencies/eur-usd-news/7\n",
            "Scraping page 8: https://www.investing.com/currencies/eur-usd-news/8\n",
            "Scraping page 9: https://www.investing.com/currencies/eur-usd-news/9\n",
            "Scraping page 10: https://www.investing.com/currencies/eur-usd-news/10\n"
          ]
        }
      ],
      "source": [
        "for page in range(1, 11):  #For Notebook purpose running only 10 pages\n",
        "    url = base_url + str(page)\n",
        "    print(f\"Scraping page {page}: {url}\")\n",
        "\n",
        "    try:\n",
        "        response = requests.get(url, headers=headers)\n",
        "        soup = BeautifulSoup(response.content, 'html.parser')\n",
        "\n",
        "        articles = soup.find_all(\"a\", {\"data-test\": \"article-title-link\"})\n",
        "\n",
        "        for article in articles:\n",
        "            try:\n",
        "                # Extract title and link\n",
        "                title = article.text.strip()\n",
        "                link = article.get(\"href\")\n",
        "                if not link.startswith(\"http\"):\n",
        "                    link = \"https://www.investing.com\" + link\n",
        "\n",
        "                # Extract timestamp near the article element\n",
        "                parent = article.find_parent(\"div\")\n",
        "                address = parent.find(\"time\") or parent.find(\"span\", class_=\"text-xs\") or parent.find(\"address\")\n",
        "                timestamp = address.text.strip() if address else \"N/A\"\n",
        "\n",
        "                all_data.append([title, link, timestamp])\n",
        "            except Exception:\n",
        "                continue\n",
        "\n",
        "        time.sleep(1)  # Be polite to the server\n",
        "    except Exception as e:\n",
        "        print(f\" Failed to fetch page {page}: {e}\")\n",
        "        time.sleep(3)\n",
        "        continue\n"
      ]
    },
    {
      "cell_type": "markdown",
      "source": [
        "To save as CSV"
      ],
      "metadata": {
        "id": "DxPdZPLVlijk"
      }
    },
    {
      "cell_type": "code",
      "source": [
        "df = pd.DataFrame(all_data, columns=[\"Title\", \"Link\", \"Timestamp\"])\n",
        "df.to_csv(\"investing_eur_usd_news_pages_1_to_1000.csv\", index=False)\n",
        "\n",
        "print(\"eur_usd_sentiment_raw_data.csv\")"
      ],
      "metadata": {
        "id": "PcpNE7dVliaY",
        "colab": {
          "base_uri": "https://localhost:8080/"
        },
        "outputId": "068d2480-3ce3-44ec-bacd-90a5b75174c4"
      },
      "execution_count": 9,
      "outputs": [
        {
          "output_type": "stream",
          "name": "stdout",
          "text": [
            "eur_usd_sentiment_raw_data.csv\n"
          ]
        }
      ]
    },
    {
      "cell_type": "markdown",
      "source": [
        "2. Getting EUR/USD Price data from Yahoo Finance"
      ],
      "metadata": {
        "id": "1seo0vlVnGux"
      }
    },
    {
      "cell_type": "markdown",
      "source": [
        "Importing Necessary Libraries"
      ],
      "metadata": {
        "id": "GqFG8VHEoI1d"
      }
    },
    {
      "cell_type": "code",
      "source": [
        "import yfinance as yf\n",
        "import pandas as pd\n"
      ],
      "metadata": {
        "id": "bkzDTD4tniLy"
      },
      "execution_count": 10,
      "outputs": []
    },
    {
      "cell_type": "markdown",
      "source": [
        "Define the symbol and date range"
      ],
      "metadata": {
        "id": "5FSD9y6Jn11l"
      }
    },
    {
      "cell_type": "code",
      "source": [
        "symbol = \"EURUSD=X\"\n",
        "start_date = \"2019-09-15\"\n",
        "end_date = None\n"
      ],
      "metadata": {
        "id": "7r1BAm9pnkCo"
      },
      "execution_count": 11,
      "outputs": []
    },
    {
      "cell_type": "markdown",
      "source": [],
      "metadata": {
        "id": "WvUYcg7kn2bU"
      }
    },
    {
      "cell_type": "code",
      "source": [
        "data = yf.download(symbol, start=start_date, interval=\"1d\", auto_adjust=False)"
      ],
      "metadata": {
        "id": "q4RTaHtAnnax",
        "colab": {
          "base_uri": "https://localhost:8080/"
        },
        "outputId": "14c84c56-de04-4a30-a17e-8830da8ac5d8"
      },
      "execution_count": 12,
      "outputs": [
        {
          "output_type": "stream",
          "name": "stderr",
          "text": [
            "\r[*********************100%***********************]  1 of 1 completed\n"
          ]
        }
      ]
    },
    {
      "cell_type": "markdown",
      "source": [
        "Keep only Open and Close"
      ],
      "metadata": {
        "id": "RtYCFyOln3EC"
      }
    },
    {
      "cell_type": "code",
      "source": [
        "data = data[[\"Open\", \"Close\"]]"
      ],
      "metadata": {
        "id": "ayewAOsXnq8I"
      },
      "execution_count": 13,
      "outputs": []
    },
    {
      "cell_type": "markdown",
      "source": [
        "Save to CSV"
      ],
      "metadata": {
        "id": "mj4dg3K4n3yD"
      }
    },
    {
      "cell_type": "code",
      "source": [
        "data.to_csv(\"eurusd_open_close_1d.csv\")\n",
        "\n",
        "print(\"Data saved as 'eurusd_open_close_1d.csv'\")"
      ],
      "metadata": {
        "id": "JrrUZKccnwT8",
        "colab": {
          "base_uri": "https://localhost:8080/"
        },
        "outputId": "3ef7e3d5-7653-4b98-c9bf-7008f18dead9"
      },
      "execution_count": 14,
      "outputs": [
        {
          "output_type": "stream",
          "name": "stdout",
          "text": [
            "Data saved as 'eurusd_open_close_1d.csv'\n"
          ]
        }
      ]
    }
  ]
}